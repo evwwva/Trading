{
 "cells": [
  {
   "cell_type": "markdown",
   "id": "4248c011",
   "metadata": {},
   "source": [
    "can run but the opening and close price is not correct. might be the timezone reason\n"
   ]
  },
  {
   "cell_type": "code",
   "execution_count": null,
   "metadata": {},
   "outputs": [],
   "source": [
    "from ib_insync import *\n",
    "import pandas as pd\n",
    "import datetime\n",
    "import pytz\n",
    "\n",
    "# Connect to the Interactive Brokers API\n",
    "ib = IB()\n",
    "ib.connect('127.0.0.1', 7497, clientId=1)\n",
    "\n",
    "# Define the contract for NVDA\n",
    "contract = Stock('NVDA', 'SMART', 'USD')\n",
    "\n",
    "# Define the date for backtesting in Eastern Time\n",
    "backtesting_date_et = datetime.datetime(2024, 3, 15, tzinfo=pytz.timezone('US/Eastern'))\n",
    "market_open_time_et = backtesting_date_et.replace(hour=9, minute=30)  # Market opens at 9:30 AM ET\n",
    "market_close_time_et = backtesting_date_et.replace(hour=16, minute=0)  # Market closes at 4:00 PM ET\n",
    "\n",
    "# Convert times to strings with time zone information for the API\n",
    "market_open_time_str = market_open_time_et.strftime('%Y%m%d %H:%M:%S') + ' US/Eastern'\n",
    "market_close_time_str = market_close_time_et.strftime('%Y%m%d %H:%M:%S') + ' US/Eastern'\n",
    "\n",
    "# Fetch the whole day's price data in 1-minute intervals\n",
    "def get_full_day_prices(start_time_str, end_time_str):\n",
    "    duration = (market_close_time_et - market_open_time_et).seconds\n",
    "    bars = ib.reqHistoricalData(\n",
    "        contract,\n",
    "        endDateTime=end_time_str,\n",
    "        durationStr=f'{duration} S',  # Duration in seconds to cover the whole trading day\n",
    "        barSizeSetting='1 min',  # 1-minute bars\n",
    "        whatToShow='TRADES',\n",
    "        useRTH=True,  # Use regular trading hours\n",
    "        formatDate=1  # Readable date format\n",
    "    )\n",
    "    return bars\n",
    "\n",
    "# Get the historical data for the entire trading day\n",
    "full_day_bars = get_full_day_prices(market_open_time_str, market_close_time_str)\n",
    "\n",
    "# Convert the data into a DataFrame\n",
    "# Convert the data into a DataFrame\n",
    "if full_day_bars:\n",
    "    df = pd.DataFrame([{\n",
    "        'time': bar.date.astimezone(pytz.timezone('UTC')).replace(tzinfo=None),  # Convert to UTC and remove timezone\n",
    "        'open': bar.open,\n",
    "        'high': bar.high,\n",
    "        'low': bar.low,\n",
    "        'close': bar.close,\n",
    "        'volume': bar.volume\n",
    "    } for bar in full_day_bars])\n",
    "\n",
    "    # Save the DataFrame to an Excel file\n",
    "    excel_file = '/Users/yf/Documents/Trading/Trading/nvda_prices.xlsx'\n",
    "    try:\n",
    "        df.to_excel(excel_file, index=False)\n",
    "        print(f\"Data saved to {excel_file}\")\n",
    "    except Exception as e:\n",
    "        print(f\"Error saving Excel file: {e}\")\n",
    "else:\n",
    "    print(\"No data received. Please check your request parameters.\")\n",
    "\n",
    "\n",
    "# Disconnect from IB\n",
    "ib.disconnect()\n"
   ]
  },
  {
   "cell_type": "markdown",
   "id": "d7b9bb20",
   "metadata": {},
   "source": []
  }
 ],
 "metadata": {
  "language_info": {
   "name": "python"
  }
 },
 "nbformat": 4,
 "nbformat_minor": 5
}
